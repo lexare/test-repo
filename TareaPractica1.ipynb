{
 "cells": [
  {
   "cell_type": "markdown",
   "metadata": {},
   "source": [
    "<h1 align=\"center\">Física Computacional.</h1>\n",
    "<h1 align=\"center\">Semestre 2015-2</h1>\n",
    "\n",
    "<h2>Sergio A. Alcalá Corona </h2> \n",
    "\n",
    "---\n",
    "### Rodrigo Vega Vilchis\n",
    "### Daniel Rojo Mata\n",
    "---"
   ]
  },
  {
   "cell_type": "markdown",
   "metadata": {},
   "source": [
    "<h1 align=\"center\">Programación para la física computacional</h1> \n",
    "\n",
    "## Práctica 1.  Programación básica\n",
    "\n",
    "\n",
    "### Programación básica para la física\n",
    "\n",
    "---"
   ]
  },
  {
   "cell_type": "markdown",
   "metadata": {},
   "source": [
    "### **EJERCICIOS**:\n",
    "\n",
    "$\\;$\n",
    "\n",
    "#### **1. Altitud de un satélite**: se va a lanzar un satélite en una órbita circular alrededor de la Tierra de modo que orbite el planeta una vez cada $T$ segundos."
   ]
  },
  {
   "cell_type": "markdown",
   "metadata": {},
   "source": [
    "#### **(a)** Demuestre que la altitud $h$ sobre la superficie de la Tierra que debe tener el satélite es:\n",
    "\n",
    "$$h = \\biggl( {GMT^2\\over4\\pi^2} \\biggr)^{1/3} - R$$\n",
    "\n",
    "donde $G = 6,67 × 10^{−11} m^3 kg^{−1}s^{−2}$ es la constante gravitatoria de Newton, $M = 5,97 ×\n",
    "1024 kg$ es la masa de la Tierra, y $R = 6371 km$ es su radio.\n",
    "\n",
    "\n"
   ]
  },
  {
   "cell_type": "markdown",
   "metadata": {},
   "source": [
    "---\n",
    "<h3 align=\"center\"> Demostracion mostrada en el PDF adjunto. </h3>\n",
    "\n",
    "---"
   ]
  },
  {
   "cell_type": "markdown",
   "metadata": {},
   "source": [
    "#### **(b)** Escribe un programa que le pida al usuario que ingrese el valor deseado de $T$ y luego calcule e imprima la altura correcta en metros.\n"
   ]
  },
  {
   "cell_type": "code",
   "execution_count": 7,
   "metadata": {},
   "outputs": [
    {
     "name": "stdout",
     "output_type": "stream",
     "text": [
      "Altitud h = -5937081.86 metros\n"
     ]
    }
   ],
   "source": [
    "# Constantes\n",
    "G = 6.67e-11       # m³ kg⁻¹ s⁻²\n",
    "M = 5.97e24        # kg\n",
    "R = 6371e3         # metros\n",
    "\n",
    "# Entrada del usuario\n",
    "T = float(input(\"Ingrese el período orbital T (segundos): \"))\n",
    "\n",
    "# Cálculo de h\n",
    "h = ( (G * M * T**2) / (4 * (3.1416)**2) )**(1/3) - R\n",
    "\n",
    "print(f\"Altitud h = {h:.2f} metros\")"
   ]
  },
  {
   "cell_type": "markdown",
   "metadata": {},
   "source": [
    "#### **(c)** Utiliza tu programa para calcular las altitudes de los satélites que orbitan la Tierra una vez al día (la llamada *órbita \"geosincrónica\"*), una vez cada **90 minutos** y una vez cada **45 minutos**. \n",
    "#### ¿Qué concluyes del último de estos cálculos?"
   ]
  },
  {
   "cell_type": "markdown",
   "metadata": {},
   "source": [
    "- **Órbita geosincrónica (T = 86400 s):**\n",
    "  $$\n",
    "  h \\approx 3.58 \\times 10^7 \\text{ m} \\quad (\\text{35,800 km})\n",
    " $$\n",
    "- **T = 90 minutos (5400 s):**\n",
    "$$\n",
    "  h \\approx 279,624 \\text{ m} \\quad (\\text{279.6 km})\n",
    " $$\n",
    "- **T = 45 minutos (2700 s):**\n",
    "$$\n",
    "  h \\approx -2.18 \\times 10^6 \\text{ m} \\quad (\\text{Altitud negativa, inviable})\n",
    "$$\n",
    "**Conclusión:** Un período de 45 minutos es imposible, ya que requeriría una órbita dentro de la Tierra."
   ]
  },
  {
   "cell_type": "markdown",
   "metadata": {},
   "source": [
    "#### **2. Relatividad especial:** Una nave espacial viaja desde la Tierra en línea recta a una velocidad relativista $v$ a otro planeta a $x$ años luz de distancia. \n",
    "\n",
    "#### Escribe un programa que le pida al usuario el valor de $x$ y la velocidad $v$ como una fracción de la velocidad de la luz $c$, y que imprima el tiempo en años que tarda la nave espacial en llegar a su destino\n",
    "\n",
    "#### **(a)** en el marco de reposo de un observador en la Tierra y"
   ]
  },
  {
   "cell_type": "markdown",
   "metadata": {},
   "source": [
    "$$\n",
    "t = \\frac{x}{v} \\quad \\text{años}\n",
    "$$"
   ]
  },
  {
   "cell_type": "markdown",
   "metadata": {},
   "source": [
    "#### **(b)** como lo percibiría un pasajero a bordo de la nave. "
   ]
  },
  {
   "cell_type": "markdown",
   "metadata": {},
   "source": [
    "$$\n",
    "t' = t \\sqrt{1 - v^2} \\quad \\text{años}\n",
    "$$"
   ]
  },
  {
   "cell_type": "markdown",
   "metadata": {},
   "source": [
    "#### Usa tu programa para calcular las respuestas para un planeta a 10 años luz de distancia con $v = 0.99c$"
   ]
  },
  {
   "cell_type": "code",
   "execution_count": 6,
   "metadata": {},
   "outputs": [
    {
     "name": "stdout",
     "output_type": "stream",
     "text": [
      "Tiempo en Tierra: 10.10 años\n",
      "Tiempo en nave: 1.42 años\n"
     ]
    }
   ],
   "source": [
    "x = float(input(\"Distancia al planeta (años luz): \"))\n",
    "v = float(input(\"Velocidad como fracción de c (ej. 0.99): \"))\n",
    "\n",
    "# Tiempo en marco Tierra\n",
    "t_tierra = x / v\n",
    "\n",
    "# Tiempo en la nave\n",
    "gamma = (1 - v**2)**0.5\n",
    "t_nave = t_tierra * gamma\n",
    "\n",
    "print(f\"Tiempo en Tierra: {t_tierra:.2f} años\")\n",
    "print(f\"Tiempo en nave: {t_nave:.2f} años\")"
   ]
  },
  {
   "cell_type": "markdown",
   "metadata": {},
   "source": [
    "$$\n",
    "t_{\\text{Tierra}} \\approx 10.10 \\text{ años}, \\quad t_{\\text{nave}} \\approx 1.43 \\text{ años}\n",
    "$$\n"
   ]
  },
  {
   "cell_type": "markdown",
   "metadata": {},
   "source": [
    "\n",
    "#### **3. Órbitas planetarias**: En el espacio, la órbita de un cuerpo alrededor de otro (como un planeta alrededor del Sol), no necesariamente es circular. En general, toma la forma de una elipse, con el cuerpo a veces más cerca y otras más lejos. Si tenemos la distancia $\\ell_1$ de máxima aproximación de un planeta al Sol (su \\textit{perihelio}), y su velocidad lineal $v_1$ en el perihelio, entonces cualquier otra propiedad de la órbita se puede calcular a partir de estas dos cantidades de la siguiente manera:\n",
    "\n",
    "#### **(a)** La segunda ley de Kepler nos dice que la distancia $\\ell_2$ y la velocidad $v_2$ del planeta en su punto más distante, o \\textit{afelio}, satisfacen que $\\ell_2 v_2 = \\ell_1 v_1$.  Al mismo tiempo, la energía total, cinética más la gravitatoria, de un planeta con velocidad $v$ y distancia $r$ del Sol está dada por:\n",
    "\n",
    "$$E = \\frac{1}{2} m v^2 - G {mM\\over r}$$\n",
    "       \n",
    "#### donde $m$ es la masa del planeta, $M=1.9891\\times10^{30}\\,$kg es la masa del Sol y $G=6.6738\\times10^{-11}\\,\\mathrm{m^3\\,kg^{-1}\\,s^{-2}}$ es la constante gravitatoria de Newton. Dado que la energía debe conservarse, demuestre que $v_2$ es la raíz más pequeña de la ecuación cuadrática:\n",
    "\n",
    "$$v_2^2 - {2GM\\over v_1\\ell_1} v_2 - \\biggl[ v_1^2 - {2GM\\over\\ell_1} \\biggr] = 0$$\n",
    "\n",
    "#### Una vez que tenemos $v_2$ podemos calcular $\\ell_2$  usando la relación $\\ell_2 = \\ell_1 v_1/v_2$.\n"
   ]
  },
  {
   "cell_type": "markdown",
   "metadata": {},
   "source": [
    "---\n",
    "<h3 align=\"center\"> Demostracion mostrada en el PDF adjunto. </h3>\n",
    "\n",
    "---"
   ]
  },
  {
   "cell_type": "markdown",
   "metadata": {},
   "source": [
    "#### **(b)**  Dados los valores de $v_1$, $\\ell_1$, y $\\ell_2$; otros parámetros de la órbita se obtienen mediante fórmulas simples que pueden derivarse de las leyes de Kepler y del hecho de que la órbita es una elipse:\n",
    "\n",
    "<h4 align=\"center\"><b>Semieje mayor</b>:\n",
    " $\\; \\; \\; a = \\frac{1}{2}(\\ell_1+\\ell_2),$\n",
    " </h3>\n",
    "\n",
    "<h4 align=\"center\"><b>Semieje menor</b>: $\\; \\; b = \\sqrt{\\ell_1\\ell_2},$</h3>\n",
    "\n",
    "<h4 align=\"center\"><b>Período orbital</b>: $\\; \\; T = {2\\pi ab\\over\\ell_1 v_1},$</h3>\n",
    "\n",
    "<h4 align=\"center\"><b>Excentricidad orbital</b>: $\\; \\; e = {\\ell_2-\\ell_1\\over\\ell_2+\\ell_1},$</h3>\n",
    "\n",
    "#### Escribe un programa que le pida al usuario que ingrese la distancia al Sol y la velocidad en el perihelio; para que calcule e imprima las cantidades $\\ell_2$, $v_2$, $T$ y $e$.\n"
   ]
  },
  {
   "cell_type": "code",
   "execution_count": 8,
   "metadata": {},
   "outputs": [
    {
     "name": "stdout",
     "output_type": "stream",
     "text": [
      "Afelio l2 = 1.52e+11 m\n",
      "Velocidad v2 = 29305.40 m/s\n",
      "Periodo T = 1.00 años\n",
      "Excentricidad e = 0.0165\n"
     ]
    }
   ],
   "source": [
    "# Constantes\n",
    "G = 6.6738e-11       # m³ kg⁻¹ s⁻²\n",
    "M = 1.9891e30        # kg\n",
    "\n",
    "# Entrada de usuario\n",
    "l1 = float(input(\"Distancia en perihelio (m): \"))\n",
    "v1 = float(input(\"Velocidad en perihelio (m/s): \"))\n",
    "\n",
    "# Resolver ecuación cuadrática para v2\n",
    "a = 1\n",
    "b = -2 * G * M / (v1 * l1)\n",
    "c = - (v1**2 - 2 * G * M / l1)\n",
    "\n",
    "discriminante = (b**2 - 4 * a * c)**0.5\n",
    "v2 = (-b - discriminante) / (2 * a)  # Raíz más pequeña\n",
    "\n",
    "l2 = l1 * v1 / v2\n",
    "\n",
    "# Parámetros orbitales\n",
    "a_semieje = (l1 + l2) / 2\n",
    "b_semieje = (l1 * l2)**0.5\n",
    "T = (2 * 3.1416 * a_semieje * b_semieje) / (l1 * v1)\n",
    "e = (l2 - l1) / (l2 + l1)\n",
    "\n",
    "print(f\"Afelio l2 = {l2:.2e} m\")\n",
    "print(f\"Velocidad v2 = {v2:.2f} m/s\")\n",
    "print(f\"Periodo T = {T / (3.154e7):.2f} años\")  # Conversión segundos a años\n",
    "print(f\"Excentricidad e = {e:.4f}\")"
   ]
  },
  {
   "cell_type": "markdown",
   "metadata": {},
   "source": [
    "#### **(c)** Prueba tu programa haciendo que calcule las propiedades de las órbitas de la Tierra (para las cuales $\\ell_1=1.4710\\times10^{11}\\,$m y $v_1=3.0287\\times10^4\\,\\mathrm{m\\,s^{-1}}$)  y del cometa Halley ($\\ell_1=8.7830\\times10^{10}\\,$m y $v_1=5.4529\\times10^4\\,\\mathrm{m\\,s^{-1}}$). Entre otras cosas, deberías encontrar que el período orbital de la Tierra es de un año y el del cometa Halley es de unos 76 años."
   ]
  },
  {
   "cell_type": "markdown",
   "metadata": {},
   "source": [
    "- **Tierra ($ l_1 = 1.4710 \\times 10^{11} $ m, $ v_1 = 3.0287 \\times 10^4 $ m/s):**\n",
    "  $$\n",
    "  T \\approx 1.00 \\text{ año}, \\quad e \\approx 0.0167\n",
    " $$\n",
    "- **Cometa Halley ($ l_1 = 8.7830 \\times 10^{10} $ m, $ v_1 = 5.4529 \\times 10^4 $ m/s):**\n",
    "  $$\n",
    "  T \\approx 76 \\text{ años}, \\quad e \\approx 0.967\n",
    "  $$"
   ]
  }
 ],
 "metadata": {
  "@webio": {
   "lastCommId": null,
   "lastKernelId": null
  },
  "kernelspec": {
   "display_name": "Python 3",
   "language": "python",
   "name": "python3"
  },
  "language_info": {
   "codemirror_mode": {
    "name": "ipython",
    "version": 3
   },
   "file_extension": ".py",
   "mimetype": "text/x-python",
   "name": "python",
   "nbconvert_exporter": "python",
   "pygments_lexer": "ipython3",
   "version": "3.13.1"
  }
 },
 "nbformat": 4,
 "nbformat_minor": 4
}
